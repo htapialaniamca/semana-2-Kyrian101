{
 "cells": [
  {
   "cell_type": "markdown",
   "metadata": {},
   "source": [
    "#### RUBÉN ALBERTO SUÁREZ RAMÍREZ\n",
    "\n",
    "##### Notas de exámen: Multiprocesos con Raspberry\n",
    "\n",
    "* El examen constó de la ejecución de comandos para procesamiento múltiple en tarjetas Raspberry, conectadas a un circuito con LEDs indicadores. En mi caso, el ejercició se trató de iniciar las comunicaciones en el dispositivo _rpi-lania3_ desde la tarjeta identificada con _rpi-lania2_\n",
    "  1. Como primer paso se inició la sesión SSH, a través del cliente _Putty_, en la tarjeta _rpi-lania2_ (mediante la dirección IP de la misma)\n",
    "       * Usuario: **_pi_**, Contraseña: **_lania2_**\n",
    "  2. Una vez iniciada la sesión se procedió a ubicar el archivo con los ejecutables necesarios\n",
    "      * **cd comades/python**\n",
    "  3. En el directorio de trabajo se modificó el archivo _machinefile_ de la siguiente manera:\n",
    "      * rpi-lania3.local **# Se coloca como primer elemento de la lista para denotarlo como host**\n",
    "      * rpi-lania2.local **# Ya que el host no es el dispositivo de la sesión activa se considera un elemento esclavo de la red**\n",
    "      * ...\n",
    "      * rpi-lania5.local\n",
    "  4. Una vez realizada la modificación del archivo de configuración se procedió a iniciar la ejecución en procesamiento múltiple del archivo _ledCustom.py_ Este archivo se configuró de tal manera que pudiera detectar hasta 5 procesos, dadas las tarjetas conectadas en la red de nodos. El comando de ejecución es el siguiente:\n",
    "      * **mpirun.openmpi -np 5 -machinefile machinefile python ledCustom.py**\n",
    "  5. La salida se detectó en la tarjeta objetivo, _rpi-lania3_, con una serialización de indicadores en cada respuesta enviada del nodo receptor hacia el host. El archivo _ledCustom.py_ se configuró de tal manera que enviara 100 peticiones a los nodos, cuya respuesta era el control de cual LED se encendía en el circuito."
   ]
  }
 ],
 "metadata": {
  "kernelspec": {
   "display_name": "Python [default]",
   "language": "python",
   "name": "python2"
  },
  "language_info": {
   "codemirror_mode": {
    "name": "ipython",
    "version": 2
   },
   "file_extension": ".py",
   "mimetype": "text/x-python",
   "name": "python",
   "nbconvert_exporter": "python",
   "pygments_lexer": "ipython2",
   "version": "2.7.13"
  }
 },
 "nbformat": 4,
 "nbformat_minor": 2
}
